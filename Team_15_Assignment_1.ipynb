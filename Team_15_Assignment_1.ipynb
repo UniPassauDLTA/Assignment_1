{
 "cells": [
  {
   "cell_type": "markdown",
   "metadata": {
    "id": "of-pUf5-pdDy"
   },
   "source": [
    "deadline: 02.February.2022 12 PM. \n",
    "\n",
    "general tasks for this assignment are:\n",
    "\n",
    "  - Import the dataset and prepare the data for the models (preferably using an automated loop)\n",
    "  -use all 5 cryptocurrencies\n",
    "  - Generate feature variables from the data sets\n",
    "  - Design neural networks which fit the task you are facing (predicting the target variable)\n",
    "  - automatic optimization of the networks (for example with cross-validation, hyperparameter tuning, etc.)\n",
    "\n",
    "dataset: [Kaggle](https://www.kaggle.com/c/g-research-crypto-forecasting)\n",
    "\n",
    "\n",
    "\n",
    "\n"
   ]
  },
  {
   "cell_type": "markdown",
   "metadata": {
    "id": "u2H2VnkkqFDI"
   },
   "source": [
    "# Team information\n",
    "\n",
    "|Team-number :| 15|\n",
    "|:----:|:----:|\n",
    "\n",
    "\n",
    "|Name|    E-Mail        |matriculation-nr.|\n",
    "|:----:|:----:|:----:|\n",
    "|Student 1| Student1@uni-passau.de|1234567|\n",
    "|Student 2| Student2@uni-passau.de|2234567|\n",
    "|Student 3| Student3@uni-passau.de|3234567|\n",
    "|Michael Haas| haas38@ads.uni-passau.de|78887|"
   ]
  },
  {
   "cell_type": "markdown",
   "metadata": {
    "id": "J5tzkX6q0poZ"
   },
   "source": [
    "# Data Import\n",
    "\n",
    "In the following chapter we will import the basic data set. \n",
    "\n",
    "To do so we are using: \n",
    "\n",
    "> The os package, which provides a portable way of using operating system dependent functionality. This is necessary as we are going to manipulate file paths in order to read the data.\n",
    "\n",
    "> The numpy packge, which provides operations on arrays, including mathematical, logical, shape manipulation, sorting, selecting, I/O, basic linear algebra and much more. We use this in this section especially to define datatypes for our datasample.\n",
    "\n",
    "> The pandas package, which is usually used for data analysis and manipulation. This package allows us to read the csv file, to transform our index into datetime format and to merge different datasets.\n",
    "\n",
    "In the first step we need to import the data by using pandas. Therefore we initially set the directory variable to the folder that contains our data and afterwards use os.path.join to join the dataset_name with the directory link. Before reading the dataset we define the datatypes using np.int and np.float, then we read the csv data and pass the datatypes to the dtype parameter. \n",
    "\n",
    "Since the timestamps are in seconds since the first of january 1970, we create a column in our datasample that contains the date in a datetime format. \n",
    "\n",
    "After preparing the dataset with the training data we also read the asset_details with pandas in the same fashion as before.\n",
    "\n",
    "In the end we merge both dataframes on the basis of the Asset_ID column. "
   ]
  },
  {
   "cell_type": "code",
   "execution_count": null,
   "metadata": {
    "colab": {
     "base_uri": "https://localhost:8080/",
     "height": 450
    },
    "executionInfo": {
     "elapsed": 5,
     "status": "error",
     "timestamp": 1641545143359,
     "user": {
      "displayName": "Michael Haas",
      "photoUrl": "https://lh3.googleusercontent.com/a/default-user=s64",
      "userId": "02661325832504211185"
     },
     "user_tz": -60
    },
    "id": "tlQdaUwrpYcd",
    "outputId": "017bc02a-a1e1-443a-d23c-4c2319f1d9ed"
   },
   "outputs": [
    {
     "ename": "FileNotFoundError",
     "evalue": "ignored",
     "output_type": "error",
     "traceback": [
      "\u001b[0;31m---------------------------------------------------------------------------\u001b[0m",
      "\u001b[0;31mFileNotFoundError\u001b[0m                         Traceback (most recent call last)",
      "\u001b[0;32m<ipython-input-1-4f20712f0ece>\u001b[0m in \u001b[0;36m<module>\u001b[0;34m()\u001b[0m\n\u001b[1;32m     17\u001b[0m     \u001b[0;34m'Target'\u001b[0m\u001b[0;34m:\u001b[0m \u001b[0mnp\u001b[0m\u001b[0;34m.\u001b[0m\u001b[0mfloat64\u001b[0m\u001b[0;34m,\u001b[0m\u001b[0;34m\u001b[0m\u001b[0;34m\u001b[0m\u001b[0m\n\u001b[1;32m     18\u001b[0m }\n\u001b[0;32m---> 19\u001b[0;31m \u001b[0mdata\u001b[0m \u001b[0;34m=\u001b[0m \u001b[0mpd\u001b[0m\u001b[0;34m.\u001b[0m\u001b[0mread_csv\u001b[0m\u001b[0;34m(\u001b[0m\u001b[0mfile_path\u001b[0m\u001b[0;34m,\u001b[0m \u001b[0mdtype\u001b[0m\u001b[0;34m=\u001b[0m\u001b[0mdtypes\u001b[0m\u001b[0;34m,\u001b[0m \u001b[0musecols\u001b[0m\u001b[0;34m=\u001b[0m\u001b[0mlist\u001b[0m\u001b[0;34m(\u001b[0m\u001b[0mdtypes\u001b[0m\u001b[0;34m.\u001b[0m\u001b[0mkeys\u001b[0m\u001b[0;34m(\u001b[0m\u001b[0;34m)\u001b[0m\u001b[0;34m)\u001b[0m\u001b[0;34m)\u001b[0m\u001b[0;34m\u001b[0m\u001b[0;34m\u001b[0m\u001b[0m\n\u001b[0m\u001b[1;32m     20\u001b[0m \u001b[0mdata\u001b[0m \u001b[0;34m[\u001b[0m\u001b[0;34m'Time'\u001b[0m\u001b[0;34m]\u001b[0m\u001b[0;34m=\u001b[0m\u001b[0mpd\u001b[0m\u001b[0;34m.\u001b[0m\u001b[0mto_datetime\u001b[0m\u001b[0;34m(\u001b[0m\u001b[0mdata\u001b[0m\u001b[0;34m[\u001b[0m\u001b[0;34m'timestamp'\u001b[0m\u001b[0;34m]\u001b[0m\u001b[0;34m,\u001b[0m \u001b[0munit\u001b[0m\u001b[0;34m=\u001b[0m\u001b[0;34m's'\u001b[0m\u001b[0;34m)\u001b[0m\u001b[0;34m\u001b[0m\u001b[0;34m\u001b[0m\u001b[0m\n\u001b[1;32m     21\u001b[0m \u001b[0;34m\u001b[0m\u001b[0m\n",
      "\u001b[0;32m/usr/local/lib/python3.7/dist-packages/pandas/io/parsers.py\u001b[0m in \u001b[0;36mread_csv\u001b[0;34m(filepath_or_buffer, sep, delimiter, header, names, index_col, usecols, squeeze, prefix, mangle_dupe_cols, dtype, engine, converters, true_values, false_values, skipinitialspace, skiprows, skipfooter, nrows, na_values, keep_default_na, na_filter, verbose, skip_blank_lines, parse_dates, infer_datetime_format, keep_date_col, date_parser, dayfirst, cache_dates, iterator, chunksize, compression, thousands, decimal, lineterminator, quotechar, quoting, doublequote, escapechar, comment, encoding, dialect, error_bad_lines, warn_bad_lines, delim_whitespace, low_memory, memory_map, float_precision)\u001b[0m\n\u001b[1;32m    686\u001b[0m     )\n\u001b[1;32m    687\u001b[0m \u001b[0;34m\u001b[0m\u001b[0m\n\u001b[0;32m--> 688\u001b[0;31m     \u001b[0;32mreturn\u001b[0m \u001b[0m_read\u001b[0m\u001b[0;34m(\u001b[0m\u001b[0mfilepath_or_buffer\u001b[0m\u001b[0;34m,\u001b[0m \u001b[0mkwds\u001b[0m\u001b[0;34m)\u001b[0m\u001b[0;34m\u001b[0m\u001b[0;34m\u001b[0m\u001b[0m\n\u001b[0m\u001b[1;32m    689\u001b[0m \u001b[0;34m\u001b[0m\u001b[0m\n\u001b[1;32m    690\u001b[0m \u001b[0;34m\u001b[0m\u001b[0m\n",
      "\u001b[0;32m/usr/local/lib/python3.7/dist-packages/pandas/io/parsers.py\u001b[0m in \u001b[0;36m_read\u001b[0;34m(filepath_or_buffer, kwds)\u001b[0m\n\u001b[1;32m    452\u001b[0m \u001b[0;34m\u001b[0m\u001b[0m\n\u001b[1;32m    453\u001b[0m     \u001b[0;31m# Create the parser.\u001b[0m\u001b[0;34m\u001b[0m\u001b[0;34m\u001b[0m\u001b[0;34m\u001b[0m\u001b[0m\n\u001b[0;32m--> 454\u001b[0;31m     \u001b[0mparser\u001b[0m \u001b[0;34m=\u001b[0m \u001b[0mTextFileReader\u001b[0m\u001b[0;34m(\u001b[0m\u001b[0mfp_or_buf\u001b[0m\u001b[0;34m,\u001b[0m \u001b[0;34m**\u001b[0m\u001b[0mkwds\u001b[0m\u001b[0;34m)\u001b[0m\u001b[0;34m\u001b[0m\u001b[0;34m\u001b[0m\u001b[0m\n\u001b[0m\u001b[1;32m    455\u001b[0m \u001b[0;34m\u001b[0m\u001b[0m\n\u001b[1;32m    456\u001b[0m     \u001b[0;32mif\u001b[0m \u001b[0mchunksize\u001b[0m \u001b[0;32mor\u001b[0m \u001b[0miterator\u001b[0m\u001b[0;34m:\u001b[0m\u001b[0;34m\u001b[0m\u001b[0;34m\u001b[0m\u001b[0m\n",
      "\u001b[0;32m/usr/local/lib/python3.7/dist-packages/pandas/io/parsers.py\u001b[0m in \u001b[0;36m__init__\u001b[0;34m(self, f, engine, **kwds)\u001b[0m\n\u001b[1;32m    946\u001b[0m             \u001b[0mself\u001b[0m\u001b[0;34m.\u001b[0m\u001b[0moptions\u001b[0m\u001b[0;34m[\u001b[0m\u001b[0;34m\"has_index_names\"\u001b[0m\u001b[0;34m]\u001b[0m \u001b[0;34m=\u001b[0m \u001b[0mkwds\u001b[0m\u001b[0;34m[\u001b[0m\u001b[0;34m\"has_index_names\"\u001b[0m\u001b[0;34m]\u001b[0m\u001b[0;34m\u001b[0m\u001b[0;34m\u001b[0m\u001b[0m\n\u001b[1;32m    947\u001b[0m \u001b[0;34m\u001b[0m\u001b[0m\n\u001b[0;32m--> 948\u001b[0;31m         \u001b[0mself\u001b[0m\u001b[0;34m.\u001b[0m\u001b[0m_make_engine\u001b[0m\u001b[0;34m(\u001b[0m\u001b[0mself\u001b[0m\u001b[0;34m.\u001b[0m\u001b[0mengine\u001b[0m\u001b[0;34m)\u001b[0m\u001b[0;34m\u001b[0m\u001b[0;34m\u001b[0m\u001b[0m\n\u001b[0m\u001b[1;32m    949\u001b[0m \u001b[0;34m\u001b[0m\u001b[0m\n\u001b[1;32m    950\u001b[0m     \u001b[0;32mdef\u001b[0m \u001b[0mclose\u001b[0m\u001b[0;34m(\u001b[0m\u001b[0mself\u001b[0m\u001b[0;34m)\u001b[0m\u001b[0;34m:\u001b[0m\u001b[0;34m\u001b[0m\u001b[0;34m\u001b[0m\u001b[0m\n",
      "\u001b[0;32m/usr/local/lib/python3.7/dist-packages/pandas/io/parsers.py\u001b[0m in \u001b[0;36m_make_engine\u001b[0;34m(self, engine)\u001b[0m\n\u001b[1;32m   1178\u001b[0m     \u001b[0;32mdef\u001b[0m \u001b[0m_make_engine\u001b[0m\u001b[0;34m(\u001b[0m\u001b[0mself\u001b[0m\u001b[0;34m,\u001b[0m \u001b[0mengine\u001b[0m\u001b[0;34m=\u001b[0m\u001b[0;34m\"c\"\u001b[0m\u001b[0;34m)\u001b[0m\u001b[0;34m:\u001b[0m\u001b[0;34m\u001b[0m\u001b[0;34m\u001b[0m\u001b[0m\n\u001b[1;32m   1179\u001b[0m         \u001b[0;32mif\u001b[0m \u001b[0mengine\u001b[0m \u001b[0;34m==\u001b[0m \u001b[0;34m\"c\"\u001b[0m\u001b[0;34m:\u001b[0m\u001b[0;34m\u001b[0m\u001b[0;34m\u001b[0m\u001b[0m\n\u001b[0;32m-> 1180\u001b[0;31m             \u001b[0mself\u001b[0m\u001b[0;34m.\u001b[0m\u001b[0m_engine\u001b[0m \u001b[0;34m=\u001b[0m \u001b[0mCParserWrapper\u001b[0m\u001b[0;34m(\u001b[0m\u001b[0mself\u001b[0m\u001b[0;34m.\u001b[0m\u001b[0mf\u001b[0m\u001b[0;34m,\u001b[0m \u001b[0;34m**\u001b[0m\u001b[0mself\u001b[0m\u001b[0;34m.\u001b[0m\u001b[0moptions\u001b[0m\u001b[0;34m)\u001b[0m\u001b[0;34m\u001b[0m\u001b[0;34m\u001b[0m\u001b[0m\n\u001b[0m\u001b[1;32m   1181\u001b[0m         \u001b[0;32melse\u001b[0m\u001b[0;34m:\u001b[0m\u001b[0;34m\u001b[0m\u001b[0;34m\u001b[0m\u001b[0m\n\u001b[1;32m   1182\u001b[0m             \u001b[0;32mif\u001b[0m \u001b[0mengine\u001b[0m \u001b[0;34m==\u001b[0m \u001b[0;34m\"python\"\u001b[0m\u001b[0;34m:\u001b[0m\u001b[0;34m\u001b[0m\u001b[0;34m\u001b[0m\u001b[0m\n",
      "\u001b[0;32m/usr/local/lib/python3.7/dist-packages/pandas/io/parsers.py\u001b[0m in \u001b[0;36m__init__\u001b[0;34m(self, src, **kwds)\u001b[0m\n\u001b[1;32m   2008\u001b[0m         \u001b[0mkwds\u001b[0m\u001b[0;34m[\u001b[0m\u001b[0;34m\"usecols\"\u001b[0m\u001b[0;34m]\u001b[0m \u001b[0;34m=\u001b[0m \u001b[0mself\u001b[0m\u001b[0;34m.\u001b[0m\u001b[0musecols\u001b[0m\u001b[0;34m\u001b[0m\u001b[0;34m\u001b[0m\u001b[0m\n\u001b[1;32m   2009\u001b[0m \u001b[0;34m\u001b[0m\u001b[0m\n\u001b[0;32m-> 2010\u001b[0;31m         \u001b[0mself\u001b[0m\u001b[0;34m.\u001b[0m\u001b[0m_reader\u001b[0m \u001b[0;34m=\u001b[0m \u001b[0mparsers\u001b[0m\u001b[0;34m.\u001b[0m\u001b[0mTextReader\u001b[0m\u001b[0;34m(\u001b[0m\u001b[0msrc\u001b[0m\u001b[0;34m,\u001b[0m \u001b[0;34m**\u001b[0m\u001b[0mkwds\u001b[0m\u001b[0;34m)\u001b[0m\u001b[0;34m\u001b[0m\u001b[0;34m\u001b[0m\u001b[0m\n\u001b[0m\u001b[1;32m   2011\u001b[0m         \u001b[0mself\u001b[0m\u001b[0;34m.\u001b[0m\u001b[0munnamed_cols\u001b[0m \u001b[0;34m=\u001b[0m \u001b[0mself\u001b[0m\u001b[0;34m.\u001b[0m\u001b[0m_reader\u001b[0m\u001b[0;34m.\u001b[0m\u001b[0munnamed_cols\u001b[0m\u001b[0;34m\u001b[0m\u001b[0;34m\u001b[0m\u001b[0m\n\u001b[1;32m   2012\u001b[0m \u001b[0;34m\u001b[0m\u001b[0m\n",
      "\u001b[0;32mpandas/_libs/parsers.pyx\u001b[0m in \u001b[0;36mpandas._libs.parsers.TextReader.__cinit__\u001b[0;34m()\u001b[0m\n",
      "\u001b[0;32mpandas/_libs/parsers.pyx\u001b[0m in \u001b[0;36mpandas._libs.parsers.TextReader._setup_parser_source\u001b[0;34m()\u001b[0m\n",
      "\u001b[0;31mFileNotFoundError\u001b[0m: [Errno 2] No such file or directory: '/root/Your_Path/train.csv'"
     ]
    }
   ],
   "source": [
    "import os\n",
    "import numpy as np\n",
    "import pandas as pd\n",
    "\n",
    "directory = \"~/Your_Path/\" #you need to change this to your data location\n",
    "file_path = os.path.join(directory, 'train.csv')\n",
    "dtypes={\n",
    "    'timestamp': np.int64,\n",
    "    'Asset_ID': np.int8,\n",
    "    'Count': np.int32,\n",
    "    'Open': np.float64,\n",
    "    'High': np.float64,\n",
    "    'Low': np.float64,\n",
    "    'Close': np.float64,\n",
    "    'Volume': np.float64,\n",
    "    'VWAP': np.float64,\n",
    "    'Target': np.float64,\n",
    "}\n",
    "data = pd.read_csv(file_path, dtype=dtypes, usecols=list(dtypes.keys()))\n",
    "data ['Time']=pd.to_datetime(data['timestamp'], unit='s')\n",
    "\n",
    "file_path = os.path.join(directory, 'asset_details.csv')\n",
    "details = pd.read_csv(file_path)\n",
    "\n",
    "data = pd.merge(data, \n",
    "                details, \n",
    "                on =\"Asset_ID\",\n",
    "                how = 'left')\n",
    "\n",
    "print(data.head())"
   ]
  },
  {
   "cell_type": "markdown",
   "metadata": {
    "id": "hg3JYJgRqFDL"
   },
   "source": [
    "We also split the data set so that we only work with the data that is available unti 31-05-2021 and use the data beginning at 01-06-2021 to predict and evaluate the models."
   ]
  },
  {
   "cell_type": "code",
   "execution_count": null,
   "metadata": {
    "id": "TVsiLBEfqFDL"
   },
   "outputs": [],
   "source": [
    "data_eval = data[data.timestamp >= 1622505660]\n",
    "data = data[data.timestamp < 1622505660]"
   ]
  },
  {
   "cell_type": "markdown",
   "metadata": {
    "id": "QTfzQl7lqFDL"
   },
   "source": [
    "# Generation of Technical Indicators\n",
    "\n",
    "In the following chapter we will generate some technical indicators to use in our models. We do this here for the Bitcoin currency.\n",
    "\n",
    "To do so we need the following package: \n",
    "\n",
    "(In this step you should be more precise regarding your package choice, extend your explanation with details that explain why you have chosen that specific package. This is not necessary for packages like pandas or numpy but would be necessary for something like ta) \n",
    "\n",
    "> The technical Analysis library, which can be used to do feature engineering from financial datasets containing time series data. \n",
    "\n",
    "We first seperate the code into two Cells as the first one is solely used to install the ta package.\n",
    "\n",
    "\n",
    "Now that the package is installed, we generate a variable that only contains the information about bitcoin. We therefore extract every row from the data variable that contains the Asset_ID corresponding to Bitcoin, set the index as timestamp and create a btc variable. \n",
    "\n",
    "Then we split our dataset into two sets test and training. We use a 70/30 approach for this. (Here you should obviously explain why you are choosing this approach)\n",
    "\n",
    "Afterwards we calculate some technical indicators (you should obviously explain why you have chosen the indicators that you are using). \n",
    "\n",
    ">We have chosen one momentum Indicator in form of the Rate of Change (ROC). The Rate-of-Change (ROC) indicator, which is also referred to as simply Momentum, is a pure momentum oscillator that measures the percent change in price from one period to the next. The ROC calculation compares the current price with the price “n” periods ago. The plot forms an oscillator that fluctuates above and below the zero line as the Rate-of-Change moves from positive to negative. As a momentum oscillator, ROC signals include centerline crossovers, divergences and overbought-oversold readings. Divergences fail to foreshadow reversals more often than not, so this article will forgo a detailed discussion on them. Even though centerline crossovers are prone to whipsaw, especially short-term, these crossovers can be used to identify the overall trend. Identifying overbought or oversold extremes comes naturally to the Rate-of-Change oscillator. \n",
    "\n",
    ">We have chosen one volume Indicator in form of the Chaikin Money Flow (CMF). It measures the amount of Money Flow Volume over a specific period.\n",
    "\n",
    ">We have also chosen one volatility indicator in form of the Average True Range (ATR). The indicator provides an indication of the degree of price volatility. Strong moves, in either direction, are often accompanied by large ranges, or large True Ranges.\n",
    "\n",
    "For all the indicators we use the same window of 5 Timesteps. (You also need to explain why you are using the timesteps that you are using in this example)\n",
    "Because we are using five timesteps it the first five rows can not contain any data. Therefore we drop these rows from our example. "
   ]
  },
  {
   "cell_type": "code",
   "execution_count": null,
   "metadata": {
    "id": "lpF0FM4VqFDM",
    "outputId": "86217461-3323-4fb1-88e4-aa4f70b0d3d3"
   },
   "outputs": [
    {
     "name": "stdout",
     "output_type": "stream",
     "text": [
      "Requirement already satisfied: ta in /opt/homebrew/anaconda3/lib/python3.8/site-packages (0.8.0)\r\n",
      "Requirement already satisfied: numpy in /opt/homebrew/anaconda3/lib/python3.8/site-packages (from ta) (1.20.1)\r\n",
      "Requirement already satisfied: pandas in /opt/homebrew/anaconda3/lib/python3.8/site-packages (from ta) (1.2.4)\r\n",
      "Requirement already satisfied: python-dateutil>=2.7.3 in /opt/homebrew/anaconda3/lib/python3.8/site-packages (from pandas->ta) (2.8.1)\r\n",
      "Requirement already satisfied: pytz>=2017.3 in /opt/homebrew/anaconda3/lib/python3.8/site-packages (from pandas->ta) (2021.1)\r\n",
      "Requirement already satisfied: six>=1.5 in /opt/homebrew/anaconda3/lib/python3.8/site-packages (from python-dateutil>=2.7.3->pandas->ta) (1.15.0)\r\n"
     ]
    }
   ],
   "source": [
    "!pip install ta"
   ]
  },
  {
   "cell_type": "code",
   "execution_count": null,
   "metadata": {
    "id": "IgXz3-B_qFDM",
    "outputId": "350e6998-845e-4128-f068-3bb5855dd2ba"
   },
   "outputs": [
    {
     "name": "stderr",
     "output_type": "stream",
     "text": [
      "/opt/homebrew/anaconda3/envs/G_Research_Competition/lib/python3.7/site-packages/ipykernel_launcher.py:13: SettingWithCopyWarning: \n",
      "A value is trying to be set on a copy of a slice from a DataFrame.\n",
      "Try using .loc[row_indexer,col_indexer] = value instead\n",
      "\n",
      "See the caveats in the documentation: https://pandas.pydata.org/pandas-docs/stable/user_guide/indexing.html#returning-a-view-versus-a-copy\n",
      "  del sys.path[0]\n",
      "/opt/homebrew/anaconda3/envs/G_Research_Competition/lib/python3.7/site-packages/ipykernel_launcher.py:16: SettingWithCopyWarning: \n",
      "A value is trying to be set on a copy of a slice from a DataFrame.\n",
      "Try using .loc[row_indexer,col_indexer] = value instead\n",
      "\n",
      "See the caveats in the documentation: https://pandas.pydata.org/pandas-docs/stable/user_guide/indexing.html#returning-a-view-versus-a-copy\n",
      "  app.launch_new_instance()\n",
      "/opt/homebrew/anaconda3/envs/G_Research_Competition/lib/python3.7/site-packages/ipykernel_launcher.py:19: SettingWithCopyWarning: \n",
      "A value is trying to be set on a copy of a slice from a DataFrame.\n",
      "Try using .loc[row_indexer,col_indexer] = value instead\n",
      "\n",
      "See the caveats in the documentation: https://pandas.pydata.org/pandas-docs/stable/user_guide/indexing.html#returning-a-view-versus-a-copy\n",
      "/opt/homebrew/anaconda3/envs/G_Research_Competition/lib/python3.7/site-packages/ipykernel_launcher.py:22: SettingWithCopyWarning: \n",
      "A value is trying to be set on a copy of a slice from a DataFrame.\n",
      "Try using .loc[row_indexer,col_indexer] = value instead\n",
      "\n",
      "See the caveats in the documentation: https://pandas.pydata.org/pandas-docs/stable/user_guide/indexing.html#returning-a-view-versus-a-copy\n",
      "/opt/homebrew/anaconda3/envs/G_Research_Competition/lib/python3.7/site-packages/ipykernel_launcher.py:25: SettingWithCopyWarning: \n",
      "A value is trying to be set on a copy of a slice from a DataFrame.\n",
      "Try using .loc[row_indexer,col_indexer] = value instead\n",
      "\n",
      "See the caveats in the documentation: https://pandas.pydata.org/pandas-docs/stable/user_guide/indexing.html#returning-a-view-versus-a-copy\n",
      "/opt/homebrew/anaconda3/envs/G_Research_Competition/lib/python3.7/site-packages/ipykernel_launcher.py:28: SettingWithCopyWarning: \n",
      "A value is trying to be set on a copy of a slice from a DataFrame.\n",
      "Try using .loc[row_indexer,col_indexer] = value instead\n",
      "\n",
      "See the caveats in the documentation: https://pandas.pydata.org/pandas-docs/stable/user_guide/indexing.html#returning-a-view-versus-a-copy\n",
      "/opt/homebrew/anaconda3/envs/G_Research_Competition/lib/python3.7/site-packages/pandas/util/_decorators.py:311: SettingWithCopyWarning: \n",
      "A value is trying to be set on a copy of a slice from a DataFrame\n",
      "\n",
      "See the caveats in the documentation: https://pandas.pydata.org/pandas-docs/stable/user_guide/indexing.html#returning-a-view-versus-a-copy\n",
      "  return func(*args, **kwargs)\n"
     ]
    }
   ],
   "source": [
    "import ta\n",
    "btc = data[data.Asset_ID == 1]\n",
    "btc.set_index('timestamp', inplace = True)\n",
    "btc = btc.reindex(range(btc.index[0], btc.index[-1] + 60, 60), method = 'pad')\n",
    "btc.sort_index(inplace = True)\n",
    "\n",
    "training_fraction = 0.70\n",
    "training_size = int(np.floor(len(btc) * training_fraction))\n",
    "\n",
    "train_data, test_data = btc[:training_size], btc[training_size:]\n",
    "\n",
    "ROC = ta.momentum.ROCIndicator(close = train_data['Close'],window = 5,fillna=False)\n",
    "train_data['ROC'] = ROC.roc()\n",
    "\n",
    "ROC = ta.momentum.ROCIndicator(close = test_data['Close'],window = 5,fillna=False)\n",
    "test_data['ROC'] = ROC.roc()\n",
    "\n",
    "CMF =ta.volume.ChaikinMoneyFlowIndicator(close = train_data['Close'],high = train_data['High'], low = train_data['Low'], volume = train_data['Volume'], window = 5,fillna=False)\n",
    "train_data['CMF'] = CMF.chaikin_money_flow()\n",
    "\n",
    "CMF =ta.volume.ChaikinMoneyFlowIndicator(close = test_data['Close'],high = test_data['High'], low = test_data['Low'], volume = test_data['Volume'], window = 5,fillna=False)\n",
    "test_data['CMF'] = CMF.chaikin_money_flow()\n",
    "\n",
    "AVR =ta.volatility.AverageTrueRange(close = train_data['Close'],high = train_data['High'], low = train_data['Low'], window = 5,fillna=False)\n",
    "train_data['AVR'] = AVR.average_true_range() \n",
    "\n",
    "AVR =ta.volatility.AverageTrueRange(close = test_data['Close'],high = test_data['High'], low = test_data['Low'], window = 5,fillna=False)\n",
    "test_data['AVR'] = AVR.average_true_range()\n",
    "\n",
    "\n",
    "train_data.dropna(inplace = True)\n",
    "test_data.dropna(inplace = True)"
   ]
  },
  {
   "cell_type": "markdown",
   "metadata": {
    "id": "F--nfNpJqFDM"
   },
   "source": [
    "# Scaling of the data\n",
    "\n",
    "Our Data contains a wide variety of data that is based on different scales. For our neural network it is necessary to work with the same scale over every feature or target variable. \n",
    "\n",
    "To scale the data we are using the sklearn package, to be more precise the sklearn.preprocessing.MinMaxScaler method. This transforms features by scaling each feature to a given range. This estimator scales and translates each feature individually such that it is in the given range on the training set, as in this case zero and one. Before we can do that we need to drop the columns that contains non numerical data and the datetime datatype. After dropping the columns, we then transform the feature values. "
   ]
  },
  {
   "cell_type": "code",
   "execution_count": null,
   "metadata": {
    "id": "9DUvHIthqFDN"
   },
   "outputs": [],
   "source": [
    "train_data_features = train_data.drop(['Asset_ID','Time','Weight','Asset_Name'], axis = 1)\n",
    "test_data_features = test_data.drop(['Asset_ID','Time','Weight','Asset_Name'], axis = 1)\n",
    "\n",
    "from sklearn.preprocessing import MinMaxScaler\n",
    "\n",
    "X_scaler = MinMaxScaler(feature_range = (0, 1))\n",
    "X_train = train_data_features.drop(['Target'], axis = 1)\n",
    "X_test = test_data_features.drop(['Target'], axis = 1)\n",
    "\n",
    "y_train = train_data_features['Target'].values\n",
    "y_test = test_data_features['Target'].values\n",
    "\n",
    "X_train_ = X_scaler.fit_transform(X_train)\n",
    "X_test_ = X_scaler.transform(X_test)"
   ]
  },
  {
   "cell_type": "markdown",
   "metadata": {
    "id": "IjX-3suxqFDN"
   },
   "source": [
    "# Generating a neural network\n",
    "\n",
    "Now that our data is prepared, we have generated our additional feature variables in form of technical indicators and our data is scaled to a uniformed scale we can start generating our neural network.\n",
    "\n",
    "For the design of our neural network we are using the tensorflow package. Because we also want to plot our loss functions we need matplotlib.\n",
    "\n",
    "> Tensorflow is a foundation library that can be used to create Deep Learning models directly or by using wrapper libraries that simplify the process built on top of TensorFlow.\n",
    "\n",
    "> Matplotlib is a comprehensive library for creating static, animated, and interactive visualizations in Python. Matplotlib makes easy things easy and hard things possible.\n",
    "\n",
    "We therefore import the tensorflow library into our code. Because we also want to use matplotlib we import the library into our code. \n",
    "\n",
    "We then create an input layer that has an input shape equally to the amount of columns of our data set or in other words the amount of features.\n",
    "\n",
    "We then add a fully connected dense layer with 64 hidden neurons and a rectified linear unit (relu) activation function. (why?)\n",
    "\n",
    ">The rectified linear activation function or ReLU for short is a piecewise linear function that will output the input directly if it is positive, otherwise, it will output zero. \n",
    "\n",
    "We then add another hidden layer with 32 hidden neurons and use the selu activation function. (why?)\n",
    "\n",
    ">The Scaled Exponential Linear Unit (SELU) activation function is defined as:\n",
    "\n",
    ">if x > 0: return scale * x\n",
    "\n",
    ">if x < 0: return scale * alpha * (exp(x) - 1)\n",
    "\n",
    ">where alpha and scale are pre-defined constants (alpha=1.67326324 and scale=1.05070098).\n",
    "\n",
    ">Basically, the SELU activation function multiplies scale (> 1) with the output of the tf.keras.activations.elu function to ensure a slope larger than one for positive inputs.\n",
    "The values of alpha and scale are chosen so that the mean and variance of the inputs are preserved between two consecutive layers as long as the weights are initialized correctly and the number of input units is \"large enough\".\n",
    "\n",
    "As our last layer we add another densly connected layer that uses a linear activation function and returns exactly one output value. (you obviously should get into more detail regarding your choice for the architecture) \n",
    "\n",
    "As our next step we compile our network with the mean absolute error loss function and the adam optimizer. \n",
    "\n",
    ">The mean absolute error computes the mean of absolute difference between labels and predictions. \n",
    "\n",
    ">Adam optimization is a stochastic gradient descent method that is based on adaptive estimation of first-order and second-order moments.\n",
    "\n",
    "We afterwards fit our model with 15 epochs (why?) and a batch_size of 10000 (why?).\n",
    "In the end we plot our loss and validation losses to see their courses.\n",
    "\n",
    "To understand the real performance of our model we use scatterplots to display the drifting apart of the prediction and the real values. Additionaly we calculate the correlation between both values. "
   ]
  },
  {
   "cell_type": "code",
   "execution_count": null,
   "metadata": {
    "id": "QbBBw1nWqFDO",
    "outputId": "d496c034-1c44-4823-ef3b-41d91f224b46"
   },
   "outputs": [
    {
     "name": "stderr",
     "output_type": "stream",
     "text": [
      "2021-12-07 10:47:12.343488: I tensorflow/core/platform/cpu_feature_guard.cc:145] This TensorFlow binary is optimized with Intel(R) MKL-DNN to use the following CPU instructions in performance critical operations:  SSE4.1 SSE4.2\n",
      "To enable them in non-MKL-DNN operations, rebuild TensorFlow with the appropriate compiler flags.\n",
      "2021-12-07 10:47:12.344272: I tensorflow/core/common_runtime/process_util.cc:115] Creating new thread pool with default inter op setting: 8. Tune using inter_op_parallelism_threads for best performance.\n"
     ]
    },
    {
     "name": "stdout",
     "output_type": "stream",
     "text": [
      "Train on 1256081 samples, validate on 538667 samples\n",
      "Epoch 1/15\n",
      "1256081/1256081 [==============================] - 5s 4us/sample - loss: 0.3197 - val_loss: 0.6899\n",
      "Epoch 2/15\n",
      "1256081/1256081 [==============================] - 4s 4us/sample - loss: 0.1938 - val_loss: 0.1333\n",
      "Epoch 3/15\n",
      "1256081/1256081 [==============================] - 4s 4us/sample - loss: 0.1533 - val_loss: 0.2241\n",
      "Epoch 4/15\n",
      "1256081/1256081 [==============================] - 4s 3us/sample - loss: 0.1254 - val_loss: 0.0914\n",
      "Epoch 5/15\n",
      "1256081/1256081 [==============================] - 4s 3us/sample - loss: 0.1017 - val_loss: 0.0949\n",
      "Epoch 6/15\n",
      "1256081/1256081 [==============================] - 4s 3us/sample - loss: 0.0811 - val_loss: 0.0375\n",
      "Epoch 7/15\n",
      "1256081/1256081 [==============================] - 4s 3us/sample - loss: 0.0643 - val_loss: 0.0392\n",
      "Epoch 8/15\n",
      "1256081/1256081 [==============================] - 4s 4us/sample - loss: 0.0518 - val_loss: 0.0233\n",
      "Epoch 9/15\n",
      "1256081/1256081 [==============================] - 5s 4us/sample - loss: 0.0424 - val_loss: 0.0233\n",
      "Epoch 10/15\n",
      "1256081/1256081 [==============================] - 5s 4us/sample - loss: 0.0353 - val_loss: 0.0231\n",
      "Epoch 11/15\n",
      "1256081/1256081 [==============================] - 5s 4us/sample - loss: 0.0298 - val_loss: 0.0297\n",
      "Epoch 12/15\n",
      "1256081/1256081 [==============================] - 5s 4us/sample - loss: 0.0255 - val_loss: 0.0335\n",
      "Epoch 13/15\n",
      "1256081/1256081 [==============================] - 5s 4us/sample - loss: 0.0221 - val_loss: 0.0343\n",
      "Epoch 14/15\n",
      "1256081/1256081 [==============================] - 5s 4us/sample - loss: 0.0192 - val_loss: 0.0319\n",
      "Epoch 15/15\n",
      "1256081/1256081 [==============================] - 5s 4us/sample - loss: 0.0168 - val_loss: 0.0287\n"
     ]
    },
    {
     "data": {
      "image/png": "[encoded data removed]",
      "text/plain": [
       "<Figure size 432x288 with 1 Axes>"
      ]
     },
     "metadata": {
      "needs_background": "light"
     },
     "output_type": "display_data"
    }
   ],
   "source": [
    "import tensorflow as tf\n",
    "import matplotlib.pyplot as plt\n",
    "\n",
    "model = tf.keras.Sequential([\n",
    "    tf.keras.layers.InputLayer(input_shape = (X_train_.shape[1])),\n",
    "    tf.keras.layers.Dense(64, activation = 'relu'),\n",
    "    tf.keras.layers.Dropout(0.25),\n",
    "    tf.keras.layers.Dense(32, activation = 'selu'),\n",
    "    tf.keras.layers.Dropout(0.25),\n",
    "    tf.keras.layers.Dense(1)\n",
    "])\n",
    "\n",
    "model.compile(loss = 'mean_absolute_error', optimizer = 'adam')\n",
    "history = model.fit(X_train_, y_train, epochs = 15, batch_size = 100000, validation_data = (X_test_, y_test))\n",
    "plt.plot(history.history['loss'], label = 'training')\n",
    "plt.plot(history.history['val_loss'], label = 'test')\n",
    "plt.show()"
   ]
  },
  {
   "cell_type": "code",
   "execution_count": null,
   "metadata": {
    "id": "1OkT8YctqFDO",
    "outputId": "cd3f3081-610c-4b39-960b-ebc914d8260c"
   },
   "outputs": [
    {
     "data": {
      "image/png": "[encoded data removed]",
      "text/plain": [
       "<Figure size 864x576 with 2 Axes>"
      ]
     },
     "metadata": {
      "needs_background": "light"
     },
     "output_type": "display_data"
    },
    {
     "name": "stdout",
     "output_type": "stream",
     "text": [
      "-0.007505730330274051\n",
      "0.01796318585851163\n"
     ]
    }
   ],
   "source": [
    "fig, axs = plt.subplots(1, 2, figsize = (12,8))\n",
    "\n",
    "axs[0].scatter(model.predict(X_train_).flatten(), y_train)\n",
    "axs[1].scatter(model.predict(X_test_).flatten(), y_test)\n",
    "plt.show()\n",
    "print(np.corrcoef(model.predict(X_train_).flatten(), y_train)[0, 1])\n",
    "print(np.corrcoef(model.predict(X_test_).flatten(), y_test)[0, 1])"
   ]
  },
  {
   "cell_type": "markdown",
   "metadata": {
    "id": "LDfrGqK3qFDO"
   },
   "source": [
    "# Test our model performance\n",
    "\n",
    "Now that we have generated our model we want to test our model performance.\n",
    "Therefore we predict values with our model on the basis of our data_eval. Therefore we need to adjust our varible to the bitcon_eval. We then generate the same technical indicators as for the training and test data and then prepare the data for our prediction, this means excluding string columns and the target variable. Then to show the performance we use a scatterplot and calculate the correleation between the predicitons and the real values."
   ]
  },
  {
   "cell_type": "code",
   "execution_count": null,
   "metadata": {
    "id": "5B12Ai3CqFDO",
    "outputId": "0fd53306-c9b1-40ec-a57b-3ff1e9f392c5"
   },
   "outputs": [
    {
     "name": "stderr",
     "output_type": "stream",
     "text": [
      "/opt/homebrew/anaconda3/envs/G_Research_Competition/lib/python3.7/site-packages/ipykernel_launcher.py:5: SettingWithCopyWarning: \n",
      "A value is trying to be set on a copy of a slice from a DataFrame.\n",
      "Try using .loc[row_indexer,col_indexer] = value instead\n",
      "\n",
      "See the caveats in the documentation: https://pandas.pydata.org/pandas-docs/stable/user_guide/indexing.html#returning-a-view-versus-a-copy\n",
      "  \"\"\"\n",
      "/opt/homebrew/anaconda3/envs/G_Research_Competition/lib/python3.7/site-packages/ipykernel_launcher.py:8: SettingWithCopyWarning: \n",
      "A value is trying to be set on a copy of a slice from a DataFrame.\n",
      "Try using .loc[row_indexer,col_indexer] = value instead\n",
      "\n",
      "See the caveats in the documentation: https://pandas.pydata.org/pandas-docs/stable/user_guide/indexing.html#returning-a-view-versus-a-copy\n",
      "  \n",
      "/opt/homebrew/anaconda3/envs/G_Research_Competition/lib/python3.7/site-packages/ipykernel_launcher.py:11: SettingWithCopyWarning: \n",
      "A value is trying to be set on a copy of a slice from a DataFrame.\n",
      "Try using .loc[row_indexer,col_indexer] = value instead\n",
      "\n",
      "See the caveats in the documentation: https://pandas.pydata.org/pandas-docs/stable/user_guide/indexing.html#returning-a-view-versus-a-copy\n",
      "  # This is added back by InteractiveShellApp.init_path()\n",
      "/opt/homebrew/anaconda3/envs/G_Research_Competition/lib/python3.7/site-packages/pandas/util/_decorators.py:311: SettingWithCopyWarning: \n",
      "A value is trying to be set on a copy of a slice from a DataFrame\n",
      "\n",
      "See the caveats in the documentation: https://pandas.pydata.org/pandas-docs/stable/user_guide/indexing.html#returning-a-view-versus-a-copy\n",
      "  return func(*args, **kwargs)\n"
     ]
    },
    {
     "data": {
      "image/png": "[encoded data removed]",
      "text/plain": [
       "<Figure size 432x288 with 1 Axes>"
      ]
     },
     "metadata": {
      "needs_background": "light"
     },
     "output_type": "display_data"
    },
    {
     "name": "stdout",
     "output_type": "stream",
     "text": [
      "0.019935764374545976\n"
     ]
    }
   ],
   "source": [
    "btc_eval = data_eval[data_eval.Asset_ID == 1]\n",
    "btc_eval.set_index('timestamp', inplace = True)\n",
    "\n",
    "ROC = ta.momentum.ROCIndicator(close = btc_eval['Close'],window = 5,fillna=False)\n",
    "btc_eval['ROC'] = ROC.roc()\n",
    "\n",
    "CMF =ta.volume.ChaikinMoneyFlowIndicator(close = btc_eval['Close'],high = btc_eval['High'], low = btc_eval['Low'], volume = btc_eval['Volume'], window = 5,fillna=False)\n",
    "btc_eval['CMF'] = CMF.chaikin_money_flow()\n",
    "\n",
    "AVR =ta.volatility.AverageTrueRange(close = btc_eval['Close'],high = btc_eval['High'], low = btc_eval['Low'], window = 5,fillna=False)\n",
    "btc_eval['AVR'] = AVR.average_true_range()\n",
    "\n",
    "btc_eval.dropna(inplace = True)\n",
    "\n",
    "X_eval = btc_eval.drop(['Asset_ID','Time','Weight','Asset_Name','Target'], axis = 1)\n",
    "X_eval_ = X_scaler.transform(X_eval)\n",
    "y_eval = btc_eval['Target'].values\n",
    "\n",
    "plt.scatter(model.predict(X_eval_).flatten(), y_eval)\n",
    "plt.show()\n",
    "print(np.corrcoef(model.predict(X_eval_).flatten(), y_eval)[0, 1])"
   ]
  },
  {
   "cell_type": "markdown",
   "metadata": {
    "id": "Ja8a6hNJqFDP"
   },
   "source": [
    "# Discussing the results\n",
    "\n",
    "As we can see in our scatterplot our values of the prediction (x-axis) move on a far bigger span (-0.075 to 0.125) than the values of the real targets (-0.02 to 0.06). Additionally our predictions tend to be around -0.025 and -0.075 in most cases, values which are below the lowest real value. Meanwhile the real values tend to be between -0.02 and 0.02 most of the time. These differences in values are also confirmed by our correlation coefficient which is basically 0.02. (Here you should also go into far more detail regarding your results, as this is just an example for your understanding)."
   ]
  }
 ],
 "metadata": {
  "colab": {
   "collapsed_sections": [],
   "name": "Team_15_Assignment_1.ipynb",
   "provenance": [],
   "toc_visible": true
  },
  "kernelspec": {
   "display_name": "Python 3 (ipykernel)",
   "language": "python",
   "name": "python3"
  },
  "language_info": {
   "codemirror_mode": {
    "name": "ipython",
    "version": 3
   },
   "file_extension": ".py",
   "mimetype": "text/x-python",
   "name": "python",
   "nbconvert_exporter": "python",
   "pygments_lexer": "ipython3",
   "version": "3.9.7"
  }
 },
 "nbformat": 4,
 "nbformat_minor": 1
}
